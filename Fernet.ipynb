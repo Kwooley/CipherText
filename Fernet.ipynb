{
 "cells": [
  {
   "attachments": {},
   "cell_type": "markdown",
   "metadata": {},
   "source": [
    "# Cryptography.fernet"
   ]
  },
  {
   "cell_type": "code",
   "execution_count": 46,
   "metadata": {},
   "outputs": [
    {
     "name": "stdout",
     "output_type": "stream",
     "text": [
      "Key Value b'JttAr8iuWwUJXt1P1t1LW1ushaNx-7mmibpM7UkMqSw='\n",
      "Cipher Text:  b'gAAAAABkRyalO5tyJWuV25Q5bSIC6dB4Tpl_-hDGTvXlPQO1khwfNwUh8Wezlki9-LBSXfusUYNgoADLEYj9G-Qy4ZGh7ZYuUVv5Fl8LymAtVOfaDEOAJ2c='\n",
      "Decrypted message b'This is a secret message'\n"
     ]
    }
   ],
   "source": [
    "from cryptography.fernet import Fernet\n",
    "\n",
    "\n",
    "key = Fernet.generate_key()\n",
    "print ('Key Value', key)\n",
    "\n",
    "fernet = Fernet(key)\n",
    "\n",
    "plain_text_msg = 'This is a secret message'\n",
    "\n",
    "cipher_text_msg = fernet.encrypt(plain_text_msg.encode())\n",
    "print ('Cipher Text: ', cipher_text_msg)\n",
    "\n",
    "decrypted_msg = fernet.decrypt(cipher_text_msg)\n",
    "print ('Decrypted message', decrypted_msg)"
   ]
  },
  {
   "cell_type": "code",
   "execution_count": 50,
   "metadata": {},
   "outputs": [
    {
     "name": "stdout",
     "output_type": "stream",
     "text": [
      "b'text message'\n",
      "text message\n",
      "a\n",
      "a\u0000\n"
     ]
    }
   ],
   "source": [
    "txt = 'text message'\n",
    "print (txt.encode())\n",
    "\n",
    "print (b'text message'.decode('ascii'))\n",
    "print (b'\\xff\\xfe\\x61\\x00'.decode('utf-16'))\n",
    "print (b'\\x61\\x00'.decode('utf-8'))"
   ]
  }
 ],
 "metadata": {
  "kernelspec": {
   "display_name": "base",
   "language": "python",
   "name": "python3"
  },
  "language_info": {
   "codemirror_mode": {
    "name": "ipython",
    "version": 3
   },
   "file_extension": ".py",
   "mimetype": "text/x-python",
   "name": "python",
   "nbconvert_exporter": "python",
   "pygments_lexer": "ipython3",
   "version": "3.9.7"
  },
  "orig_nbformat": 4
 },
 "nbformat": 4,
 "nbformat_minor": 2
}
