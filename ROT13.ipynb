{
 "cells": [
  {
   "attachments": {},
   "cell_type": "markdown",
   "metadata": {},
   "source": [
    "# Cipher Text: Rotate by 13 places"
   ]
  },
  {
   "cell_type": "code",
   "execution_count": 20,
   "metadata": {},
   "outputs": [
    {
     "name": "stdout",
     "output_type": "stream",
     "text": [
      "Encrypted message:  URYYB\n"
     ]
    }
   ],
   "source": [
    "def encrypt(msg, key):\n",
    "    encmsg = ''\n",
    "    for i in range(len(msg)):\n",
    "        idx = ord(msg[i]) - ord('A') \n",
    "        cidx = (idx + key) % 26\n",
    "        encmsg += chr(cidx+ord('A'))\n",
    "    return encmsg\n",
    "\n",
    "key = 13\n",
    "plain_txt = 'HELLO'\n",
    "encrypted_msg = encrypt(plain_txt, key)\n",
    "print ('Encrypted message: ', encrypted_msg)\n"
   ]
  },
  {
   "cell_type": "code",
   "execution_count": 22,
   "metadata": {},
   "outputs": [
    {
     "name": "stdout",
     "output_type": "stream",
     "text": [
      "Decrypted message:  HELLO\n"
     ]
    }
   ],
   "source": [
    "def decrypt(msg, key):\n",
    "    decmsg = '' \n",
    "    for i in range(len(msg)):\n",
    "        idx = ord(msg[i]) - ord('A')\n",
    "        didx = (idx - key) % 26\n",
    "        decmsg += chr(didx + ord('A'))\n",
    "    return decmsg\n",
    "\n",
    "decrypted_msg = decrypt(encrypted_msg, key)\n",
    "# decrypted_msg = encrypt(encrypted_msg, key)\n",
    "print ('Decrypted message: ', decrypted_msg)"
   ]
  }
 ],
 "metadata": {
  "kernelspec": {
   "display_name": "base",
   "language": "python",
   "name": "python3"
  },
  "language_info": {
   "codemirror_mode": {
    "name": "ipython",
    "version": 3
   },
   "file_extension": ".py",
   "mimetype": "text/x-python",
   "name": "python",
   "nbconvert_exporter": "python",
   "pygments_lexer": "ipython3",
   "version": "3.9.7"
  },
  "orig_nbformat": 4
 },
 "nbformat": 4,
 "nbformat_minor": 2
}
