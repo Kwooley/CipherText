{
 "cells": [
  {
   "attachments": {},
   "cell_type": "markdown",
   "metadata": {},
   "source": [
    "# Hash Algorithm"
   ]
  },
  {
   "cell_type": "code",
   "execution_count": 12,
   "metadata": {},
   "outputs": [
    {
     "data": {
      "text/plain": [
       "b'\\xce\\x0b\\x1b\\x0feF\\xd8\\xbcIP\\x1f\\x00\\xbc\\xad2h\\xc9\\xd0\\xda\\x0c\\xf7%[i\\xcb\\x182\\x15\\xc1*\\xf1\\x89'"
      ]
     },
     "execution_count": 12,
     "metadata": {},
     "output_type": "execute_result"
    }
   ],
   "source": [
    "import hashlib\n",
    "\n",
    "\n",
    "m = hashlib.sha256()\n",
    "\n",
    "m.update(b'This is secret message')\n",
    "m.digest()\n"
   ]
  },
  {
   "cell_type": "code",
   "execution_count": 8,
   "metadata": {},
   "outputs": [
    {
     "data": {
      "text/plain": [
       "'ce0b1b0f6546d8bc49501f00bcad3268c9d0da0cf7255b69cb183215c12af189'"
      ]
     },
     "execution_count": 8,
     "metadata": {},
     "output_type": "execute_result"
    }
   ],
   "source": [
    "m.hexdigest()"
   ]
  },
  {
   "cell_type": "code",
   "execution_count": 13,
   "metadata": {},
   "outputs": [
    {
     "data": {
      "text/plain": [
       "b'\\xce\\x0b\\x1b\\x0feF\\xd8\\xbcIP\\x1f\\x00\\xbc\\xad2h\\xc9\\xd0\\xda\\x0c\\xf7%[i\\xcb\\x182\\x15\\xc1*\\xf1\\x89'"
      ]
     },
     "execution_count": 13,
     "metadata": {},
     "output_type": "execute_result"
    }
   ],
   "source": [
    "newobj = hashlib.new('sha256')\n",
    "newobj.update(b'This is secret message')\n",
    "newobj.digest()"
   ]
  }
 ],
 "metadata": {
  "kernelspec": {
   "display_name": "base",
   "language": "python",
   "name": "python3"
  },
  "language_info": {
   "codemirror_mode": {
    "name": "ipython",
    "version": 3
   },
   "file_extension": ".py",
   "mimetype": "text/x-python",
   "name": "python",
   "nbconvert_exporter": "python",
   "pygments_lexer": "ipython3",
   "version": "3.9.7"
  },
  "orig_nbformat": 4
 },
 "nbformat": 4,
 "nbformat_minor": 2
}
